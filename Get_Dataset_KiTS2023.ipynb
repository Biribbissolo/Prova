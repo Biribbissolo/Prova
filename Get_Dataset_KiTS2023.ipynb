{
  "nbformat": 4,
  "nbformat_minor": 0,
  "metadata": {
    "colab": {
      "provenance": [],
      "authorship_tag": "ABX9TyOpALDklTI182J8zcE9l3Wn",
      "include_colab_link": true
    },
    "kernelspec": {
      "name": "python3",
      "display_name": "Python 3"
    },
    "language_info": {
      "name": "python"
    },
    "gpuClass": "standard"
  },
  "cells": [
    {
      "cell_type": "markdown",
      "metadata": {
        "id": "view-in-github",
        "colab_type": "text"
      },
      "source": [
        "<a href=\"https://colab.research.google.com/github/Biribbissolo/Prova/blob/main/Get_Dataset_KiTS2023.ipynb\" target=\"_parent\"><img src=\"https://colab.research.google.com/assets/colab-badge.svg\" alt=\"Open In Colab\"/></a>"
      ]
    },
    {
      "cell_type": "markdown",
      "source": [
        "Lest's get started!"
      ],
      "metadata": {
        "id": "tJCHLbE8SZG3"
      }
    },
    {
      "cell_type": "code",
      "execution_count": null,
      "metadata": {
        "colab": {
          "base_uri": "https://localhost:8080/"
        },
        "id": "D_22i5re9McQ",
        "outputId": "8a85bd0d-c630-4721-dfcc-fdd2b253b3e2"
      },
      "outputs": [
        {
          "output_type": "stream",
          "name": "stdout",
          "text": [
            "Mounted at /content/drive\n"
          ]
        }
      ],
      "source": [
        "from google.colab import drive\n",
        "drive.mount('/content/drive')"
      ]
    },
    {
      "cell_type": "markdown",
      "source": [
        "*Get Data*"
      ],
      "metadata": {
        "id": "EjZ7B_cL9x9m"
      }
    },
    {
      "cell_type": "code",
      "source": [
        "!git clone https://github.com/neheller/kits23.git"
      ],
      "metadata": {
        "colab": {
          "base_uri": "https://localhost:8080/"
        },
        "id": "gN-CGMck1bIu",
        "outputId": "8869512d-4f4d-4cef-dcd9-b626f428c092"
      },
      "execution_count": null,
      "outputs": [
        {
          "output_type": "stream",
          "name": "stdout",
          "text": [
            "Cloning into 'kits23'...\n",
            "remote: Enumerating objects: 15551, done.\u001b[K\n",
            "remote: Counting objects: 100% (25/25), done.\u001b[K\n",
            "remote: Compressing objects: 100% (18/18), done.\u001b[K\n",
            "remote: Total 15551 (delta 8), reused 16 (delta 6), pack-reused 15526\u001b[K\n",
            "Receiving objects: 100% (15551/15551), 493.75 MiB | 34.12 MiB/s, done.\n",
            "Resolving deltas: 100% (13977/13977), done.\n",
            "Updating files: 100% (5719/5719), done.\n"
          ]
        }
      ]
    },
    {
      "cell_type": "code",
      "source": [
        "%cd /content/kits23\n",
        "!pip3 install -e ."
      ],
      "metadata": {
        "id": "FPfOz7PL2W1-",
        "colab": {
          "base_uri": "https://localhost:8080/",
          "height": 1000
        },
        "outputId": "2d0908c6-00a7-45c8-a469-d4a36d9f8b41"
      },
      "execution_count": null,
      "outputs": [
        {
          "output_type": "stream",
          "name": "stdout",
          "text": [
            "/content/kits23\n",
            "Looking in indexes: https://pypi.org/simple, https://us-python.pkg.dev/colab-wheels/public/simple/\n",
            "Obtaining file:///content/kits23\n",
            "  Preparing metadata (setup.py) ... \u001b[?25l\u001b[?25hdone\n",
            "Collecting Surface-Distance-Based-Measures@ git+https://github.com/deepmind/surface-distance.git (from kits23==0.1.2)\n",
            "  Cloning https://github.com/deepmind/surface-distance.git to /tmp/pip-install-55pwiz52/surface-distance-based-measures_6691585fe1db4463b7fe423ee121cad8\n",
            "  Running command git clone --filter=blob:none --quiet https://github.com/deepmind/surface-distance.git /tmp/pip-install-55pwiz52/surface-distance-based-measures_6691585fe1db4463b7fe423ee121cad8\n",
            "  Resolved https://github.com/deepmind/surface-distance.git to commit ee651c80e11ab5fcc3d1b0c1c6e7bbc6fb4c987c\n",
            "  Preparing metadata (setup.py) ... \u001b[?25l\u001b[?25hdone\n",
            "Requirement already satisfied: numpy in /usr/local/lib/python3.10/dist-packages (from kits23==0.1.2) (1.22.4)\n",
            "Requirement already satisfied: scipy in /usr/local/lib/python3.10/dist-packages (from kits23==0.1.2) (1.10.1)\n",
            "Requirement already satisfied: scikit-image in /usr/local/lib/python3.10/dist-packages (from kits23==0.1.2) (0.19.3)\n",
            "Requirement already satisfied: opencv-python in /usr/local/lib/python3.10/dist-packages (from kits23==0.1.2) (4.7.0.72)\n",
            "Requirement already satisfied: nibabel in /usr/local/lib/python3.10/dist-packages (from kits23==0.1.2) (3.0.2)\n",
            "Requirement already satisfied: requests in /usr/local/lib/python3.10/dist-packages (from kits23==0.1.2) (2.27.1)\n",
            "Collecting argparse (from kits23==0.1.2)\n",
            "  Downloading argparse-1.4.0-py2.py3-none-any.whl (23 kB)\n",
            "Requirement already satisfied: tqdm in /usr/local/lib/python3.10/dist-packages (from kits23==0.1.2) (4.65.0)\n",
            "Requirement already satisfied: pytest in /usr/local/lib/python3.10/dist-packages (from kits23==0.1.2) (7.2.2)\n",
            "Collecting SimpleITK (from kits23==0.1.2)\n",
            "  Downloading SimpleITK-2.2.1-cp310-cp310-manylinux_2_17_x86_64.manylinux2014_x86_64.whl (52.7 MB)\n",
            "\u001b[2K     \u001b[90m━━━━━━━━━━━━━━━━━━━━━━━━━━━━━━━━━━━━━━━━\u001b[0m \u001b[32m52.7/52.7 MB\u001b[0m \u001b[31m6.2 MB/s\u001b[0m eta \u001b[36m0:00:00\u001b[0m\n",
            "\u001b[?25hCollecting batchgenerators (from kits23==0.1.2)\n",
            "  Downloading batchgenerators-0.25.tar.gz (61 kB)\n",
            "\u001b[2K     \u001b[90m━━━━━━━━━━━━━━━━━━━━━━━━━━━━━━━━━━━━━━━━\u001b[0m \u001b[32m61.7/61.7 kB\u001b[0m \u001b[31m7.5 MB/s\u001b[0m eta \u001b[36m0:00:00\u001b[0m\n",
            "\u001b[?25h  Preparing metadata (setup.py) ... \u001b[?25l\u001b[?25hdone\n",
            "Requirement already satisfied: pillow>=7.1.2 in /usr/local/lib/python3.10/dist-packages (from batchgenerators->kits23==0.1.2) (8.4.0)\n",
            "Requirement already satisfied: scikit-learn in /usr/local/lib/python3.10/dist-packages (from batchgenerators->kits23==0.1.2) (1.2.2)\n",
            "Requirement already satisfied: future in /usr/local/lib/python3.10/dist-packages (from batchgenerators->kits23==0.1.2) (0.18.3)\n",
            "Collecting unittest2 (from batchgenerators->kits23==0.1.2)\n",
            "  Downloading unittest2-1.1.0-py2.py3-none-any.whl (96 kB)\n",
            "\u001b[2K     \u001b[90m━━━━━━━━━━━━━━━━━━━━━━━━━━━━━━━━━━━━━━━━\u001b[0m \u001b[32m96.4/96.4 kB\u001b[0m \u001b[31m8.5 MB/s\u001b[0m eta \u001b[36m0:00:00\u001b[0m\n",
            "\u001b[?25hRequirement already satisfied: threadpoolctl in /usr/local/lib/python3.10/dist-packages (from batchgenerators->kits23==0.1.2) (3.1.0)\n",
            "Requirement already satisfied: attrs>=19.2.0 in /usr/local/lib/python3.10/dist-packages (from pytest->kits23==0.1.2) (23.1.0)\n",
            "Requirement already satisfied: iniconfig in /usr/local/lib/python3.10/dist-packages (from pytest->kits23==0.1.2) (2.0.0)\n",
            "Requirement already satisfied: packaging in /usr/local/lib/python3.10/dist-packages (from pytest->kits23==0.1.2) (23.1)\n",
            "Requirement already satisfied: pluggy<2.0,>=0.12 in /usr/local/lib/python3.10/dist-packages (from pytest->kits23==0.1.2) (1.0.0)\n",
            "Requirement already satisfied: exceptiongroup>=1.0.0rc8 in /usr/local/lib/python3.10/dist-packages (from pytest->kits23==0.1.2) (1.1.1)\n",
            "Requirement already satisfied: tomli>=1.0.0 in /usr/local/lib/python3.10/dist-packages (from pytest->kits23==0.1.2) (2.0.1)\n",
            "Requirement already satisfied: urllib3<1.27,>=1.21.1 in /usr/local/lib/python3.10/dist-packages (from requests->kits23==0.1.2) (1.26.15)\n",
            "Requirement already satisfied: certifi>=2017.4.17 in /usr/local/lib/python3.10/dist-packages (from requests->kits23==0.1.2) (2022.12.7)\n",
            "Requirement already satisfied: charset-normalizer~=2.0.0 in /usr/local/lib/python3.10/dist-packages (from requests->kits23==0.1.2) (2.0.12)\n",
            "Requirement already satisfied: idna<4,>=2.5 in /usr/local/lib/python3.10/dist-packages (from requests->kits23==0.1.2) (3.4)\n",
            "Requirement already satisfied: networkx>=2.2 in /usr/local/lib/python3.10/dist-packages (from scikit-image->kits23==0.1.2) (3.1)\n",
            "Requirement already satisfied: imageio>=2.4.1 in /usr/local/lib/python3.10/dist-packages (from scikit-image->kits23==0.1.2) (2.25.1)\n",
            "Requirement already satisfied: tifffile>=2019.7.26 in /usr/local/lib/python3.10/dist-packages (from scikit-image->kits23==0.1.2) (2023.4.12)\n",
            "Requirement already satisfied: PyWavelets>=1.1.1 in /usr/local/lib/python3.10/dist-packages (from scikit-image->kits23==0.1.2) (1.4.1)\n",
            "Requirement already satisfied: absl-py in /usr/local/lib/python3.10/dist-packages (from Surface-Distance-Based-Measures@ git+https://github.com/deepmind/surface-distance.git->kits23==0.1.2) (1.4.0)\n",
            "Requirement already satisfied: joblib>=1.1.1 in /usr/local/lib/python3.10/dist-packages (from scikit-learn->batchgenerators->kits23==0.1.2) (1.2.0)\n",
            "Requirement already satisfied: six>=1.4 in /usr/local/lib/python3.10/dist-packages (from unittest2->batchgenerators->kits23==0.1.2) (1.16.0)\n",
            "Collecting traceback2 (from unittest2->batchgenerators->kits23==0.1.2)\n",
            "  Downloading traceback2-1.4.0-py2.py3-none-any.whl (16 kB)\n",
            "Collecting linecache2 (from traceback2->unittest2->batchgenerators->kits23==0.1.2)\n",
            "  Downloading linecache2-1.0.0-py2.py3-none-any.whl (12 kB)\n",
            "Building wheels for collected packages: batchgenerators, Surface-Distance-Based-Measures\n",
            "  Building wheel for batchgenerators (setup.py) ... \u001b[?25l\u001b[?25hdone\n",
            "  Created wheel for batchgenerators: filename=batchgenerators-0.25-py3-none-any.whl size=89009 sha256=993e5be951256ebaf9324e266ee60ba5364f9346bb7e1a2a232e0756638f5618\n",
            "  Stored in directory: /root/.cache/pip/wheels/9e/b0/1b/40912fb58eb167b86cbc444ddb2e6ba382b248215295f932e2\n",
            "  Building wheel for Surface-Distance-Based-Measures (setup.py) ... \u001b[?25l\u001b[?25hdone\n",
            "  Created wheel for Surface-Distance-Based-Measures: filename=Surface_Distance_Based_Measures-0.1-py3-none-any.whl size=14340 sha256=7be133707ccef281aba3d3060803ae1dcfd1c61e24606a83aac066217de62b56\n",
            "  Stored in directory: /tmp/pip-ephem-wheel-cache-8t70htg5/wheels/84/db/4b/8f21fe40700c261f98b3135a1bee79893f9e0e803e4dc6451d\n",
            "Successfully built batchgenerators Surface-Distance-Based-Measures\n",
            "Installing collected packages: SimpleITK, linecache2, argparse, traceback2, unittest2, Surface-Distance-Based-Measures, batchgenerators, kits23\n",
            "  Running setup.py develop for kits23\n",
            "Successfully installed SimpleITK-2.2.1 Surface-Distance-Based-Measures-0.1 argparse-1.4.0 batchgenerators-0.25 kits23-0.1.2 linecache2-1.0.0 traceback2-1.4.0 unittest2-1.1.0\n"
          ]
        },
        {
          "output_type": "display_data",
          "data": {
            "application/vnd.colab-display-data+json": {
              "pip_warning": {
                "packages": [
                  "argparse"
                ]
              }
            }
          },
          "metadata": {}
        }
      ]
    },
    {
      "cell_type": "code",
      "source": [
        "!kits23_download_data"
      ],
      "metadata": {
        "colab": {
          "base_uri": "https://localhost:8080/"
        },
        "id": "Rk6Q4CO2QL_L",
        "outputId": "cdd66e1c-0e92-44cd-da21-fc2b6e9c4b56"
      },
      "execution_count": null,
      "outputs": [
        {
          "output_type": "stream",
          "name": "stdout",
          "text": [
            "\n",
            "Found 489 cases to download\n",
            "\n",
            "Dowloading case_00588...: 100% 489/489 [09:31<00:00,  1.17s/it]\n"
          ]
        }
      ]
    },
    {
      "cell_type": "markdown",
      "source": [
        "Imports"
      ],
      "metadata": {
        "id": "PLPmwTX4Rq6B"
      }
    },
    {
      "cell_type": "code",
      "source": [
        "import nibabel as nib\n",
        "import numpy as np\n",
        "import matplotlib.pyplot as plt\n",
        "import os"
      ],
      "metadata": {
        "id": "64kaihO-pm_n"
      },
      "execution_count": null,
      "outputs": []
    },
    {
      "cell_type": "markdown",
      "source": [
        "Reorganization of the dataset into the mode useful for this work"
      ],
      "metadata": {
        "id": "4umoLY-IR3dw"
      }
    },
    {
      "cell_type": "code",
      "source": [
        "Paz_list=os.listdir('/content/kits23/dataset')\n",
        "Paz_list.sort()\n",
        "\n",
        "for i in range(0,len(Paz_list)):\n",
        "  img_volante = nib.load('/content/kits23/dataset/'+Paz_list[i]+'/imaging.nii.gz')\n",
        "  seg_volante = nib.load('/content/kits23/dataset/'+Paz_list[i]+'/segmentation.nii.gz')\n",
        "\n",
        "  os.mkdir('/content/drive/MyDrive/Colab Notebooks/Challenge/Project_GitHub/KiTS_2023/Dataset_2023_per_prove/'+Paz_list[i])\n",
        "\n",
        "  nib.save(img_volante, '/content/drive/MyDrive/Colab Notebooks/Challenge/Project_GitHub/KiTS_2023/Dataset_2023_per_prove/'+Paz_list[i]+'/imaging.nii.gz')\n",
        "  nib.save(seg_volante, '/content/drive/MyDrive/Colab Notebooks/Challenge/Project_GitHub/KiTS_2023/Dataset_2023_per_prove/'+Paz_list[i]+'/segmentation.nii.gz')\n"
      ],
      "metadata": {
        "id": "3S8nibNDtf0c"
      },
      "execution_count": null,
      "outputs": []
    },
    {
      "cell_type": "markdown",
      "source": [
        "*Dataset Done!*"
      ],
      "metadata": {
        "id": "W_YTjKOWVkXA"
      }
    }
  ]
}