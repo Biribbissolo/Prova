{
  "nbformat": 4,
  "nbformat_minor": 0,
  "metadata": {
    "colab": {
      "provenance": [],
      "authorship_tag": "ABX9TyOpALDklTI182J8zcE9l3Wn",
      "include_colab_link": true
    },
    "kernelspec": {
      "name": "python3",
      "display_name": "Python 3"
    },
    "language_info": {
      "name": "python"
    },
    "gpuClass": "standard"
  },
  "cells": [
    {
      "cell_type": "markdown",
      "metadata": {
        "id": "view-in-github",
        "colab_type": "text"
      },
      "source": [
        "<a href=\"https://colab.research.google.com/github/Biribbissolo/Prova/blob/main/Get_Dataset_KiTS2023.ipynb\" target=\"_parent\"><img src=\"https://colab.research.google.com/assets/colab-badge.svg\" alt=\"Open In Colab\"/></a>"
      ]
    },
    {
      "cell_type": "markdown",
      "source": [
        "Lest's get started!"
      ],
      "metadata": {
        "id": "tJCHLbE8SZG3"
      }
    },
    {
      "cell_type": "code",
      "execution_count": null,
      "metadata": {
        "id": "D_22i5re9McQ"
      },
      "outputs": [],
      "source": [
        "from google.colab import drive\n",
        "drive.mount('/content/drive')"
      ]
    },
    {
      "cell_type": "markdown",
      "source": [
        "*Get Data*"
      ],
      "metadata": {
        "id": "EjZ7B_cL9x9m"
      }
    },
    {
      "cell_type": "code",
      "source": [
        "!git clone https://github.com/neheller/kits23.git"
      ],
      "metadata": {
        "id": "gN-CGMck1bIu"
      },
      "execution_count": null,
      "outputs": []
    },
    {
      "cell_type": "code",
      "source": [
        "%cd /content/kits23\n",
        "!pip3 install -e ."
      ],
      "metadata": {
        "id": "FPfOz7PL2W1-"
      },
      "execution_count": null,
      "outputs": []
    },
    {
      "cell_type": "code",
      "source": [
        "!kits23_download_data"
      ],
      "metadata": {
        "colab": {
          "base_uri": "https://localhost:8080/"
        },
        "id": "Rk6Q4CO2QL_L",
        "outputId": "cdd66e1c-0e92-44cd-da21-fc2b6e9c4b56"
      },
      "execution_count": null,
      "outputs": [
        {
          "output_type": "stream",
          "name": "stdout",
          "text": [
            "\n",
            "Found 489 cases to download\n",
            "\n",
            "Dowloading case_00588...: 100% 489/489 [09:31<00:00,  1.17s/it]\n"
          ]
        }
      ]
    },
    {
      "cell_type": "markdown",
      "source": [
        "Imports"
      ],
      "metadata": {
        "id": "PLPmwTX4Rq6B"
      }
    },
    {
      "cell_type": "code",
      "source": [
        "import nibabel as nib\n",
        "import numpy as np\n",
        "import matplotlib.pyplot as plt\n",
        "import os"
      ],
      "metadata": {
        "id": "64kaihO-pm_n"
      },
      "execution_count": null,
      "outputs": []
    },
    {
      "cell_type": "markdown",
      "source": [
        "Reorganization of the dataset into the mode useful for this work"
      ],
      "metadata": {
        "id": "4umoLY-IR3dw"
      }
    },
    {
      "cell_type": "code",
      "source": [
        "Paz_list=os.listdir('/content/kits23/dataset')\n",
        "Paz_list.sort()\n",
        "\n",
        "for i in range(0,len(Paz_list)):\n",
        "  img_volante = nib.load('/content/kits23/dataset/'+Paz_list[i]+'/imaging.nii.gz')\n",
        "  seg_volante = nib.load('/content/kits23/dataset/'+Paz_list[i]+'/segmentation.nii.gz')\n",
        "\n",
        "  os.mkdir('/content/drive/MyDrive/Colab Notebooks/Challenge/Project_GitHub/KiTS_2023/Dataset_2023_per_prove/'+Paz_list[i])\n",
        "\n",
        "  nib.save(img_volante, '/content/drive/MyDrive/Colab Notebooks/Challenge/Project_GitHub/KiTS_2023/Dataset_2023_per_prove/'+Paz_list[i]+'/imaging.nii.gz')\n",
        "  nib.save(seg_volante, '/content/drive/MyDrive/Colab Notebooks/Challenge/Project_GitHub/KiTS_2023/Dataset_2023_per_prove/'+Paz_list[i]+'/segmentation.nii.gz')\n"
      ],
      "metadata": {
        "id": "3S8nibNDtf0c"
      },
      "execution_count": null,
      "outputs": []
    },
    {
      "cell_type": "markdown",
      "source": [
        "*Dataset Done!*"
      ],
      "metadata": {
        "id": "W_YTjKOWVkXA"
      }
    }
  ]
}