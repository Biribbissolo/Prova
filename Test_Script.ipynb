{
  "cells": [
    {
      "cell_type": "markdown",
      "metadata": {
        "id": "view-in-github",
        "colab_type": "text"
      },
      "source": [
        "<a href=\"https://colab.research.google.com/github/Biribbissolo/Prova/blob/main/Test_Script.ipynb\" target=\"_parent\"><img src=\"https://colab.research.google.com/assets/colab-badge.svg\" alt=\"Open In Colab\"/></a>"
      ]
    },
    {
      "cell_type": "code",
      "execution_count": null,
      "metadata": {
        "id": "FIf8Tjv3tnXw"
      },
      "outputs": [],
      "source": [
        "!pip install -U -q segmentation-models\n",
        "!pip install tensorflow==2.9.3\n",
        "!pip install h5py==2.10.0\n",
        "!pip install plotly==5.3.1"
      ]
    },
    {
      "cell_type": "code",
      "execution_count": null,
      "metadata": {
        "id": "JQPev1WXtnPd"
      },
      "outputs": [],
      "source": [
        "from google.colab import drive\n",
        "drive.mount('/content/drive')"
      ]
    },
    {
      "cell_type": "code",
      "execution_count": null,
      "metadata": {
        "id": "Iyseq5SDtnGN"
      },
      "outputs": [],
      "source": [
        "import numpy as np\n",
        "import os\n",
        "\n",
        "import nibabel as nib\n",
        "import tensorflow as tf\n",
        "\n",
        "import matplotlib.pyplot as plt\n",
        "from matplotlib import pyplot as plt\n",
        "from tqdm import tqdm\n",
        "\n",
        "import skimage\n",
        "from skimage.io import imread, imshow, imsave\n",
        "from skimage.transform import resize\n",
        "\n",
        "from tensorflow import keras\n",
        "from keras.callbacks import ModelCheckpoint\n",
        "from keras.callbacks import CSVLogger\n",
        "from keras.callbacks import EarlyStopping\n",
        "from keras.utils.np_utils import to_categorical\n",
        "from keras.preprocessing.image import ImageDataGenerator\n",
        "from keras.models import load_model\n",
        "from keras import metrics\n",
        "from keras.callbacks import ReduceLROnPlateau\n",
        "\n",
        "from segmentation_models import Unet\n",
        "import math\n",
        "from math import floor\n",
        "\n",
        "import time\n",
        "import random\n",
        "from random import seed\n",
        "from random import random"
      ]
    },
    {
      "cell_type": "markdown",
      "source": [
        "Useful functions"
      ],
      "metadata": {
        "id": "hyrYGU3CFoXq"
      }
    },
    {
      "cell_type": "code",
      "execution_count": null,
      "metadata": {
        "id": "46kTrbCQVNI8"
      },
      "outputs": [],
      "source": [
        "def visualizer(segm, IMG_HEIGHT, IMG_WIDTH):     #Function useful for displaying segmentations\n",
        "\n",
        "   segm = resize(segm,(IMG_HEIGHT,IMG_WIDTH,4), mode='constant', preserve_range=True)\n",
        "\n",
        "   back = segm[:,:,0]\n",
        "   kid = segm[:,:,1]\n",
        "   tum = segm[:,:,2]\n",
        "   cys = segm[:,:,3]\n",
        "\n",
        "   back = (back == 1)\n",
        "   kid = (kid == 1)\n",
        "   tum = (tum == 1)\n",
        "   cys = (cys == 1)\n",
        "\n",
        "   all_segments = np.zeros((IMG_HEIGHT, IMG_WIDTH, 3))\n",
        "\n",
        "   all_segments[back] = (1,0,0)\n",
        "   all_segments[kid] = (0,1,0)\n",
        "   all_segments[tum] = (0,0,1)\n",
        "   all_segments[cys] = (1,1,0)\n",
        "\n",
        "   return all_segments\n",
        "\n",
        "\n",
        "def Test(dataset_path, model_path, output_path, first_subj, last_subj, view_dataset, save_prediction):\n",
        "\n",
        "    range_subjects = np.arange(first_subj, last_subj + 1, 1)\n",
        "    num_subj=len(range_subjects)\n",
        "\n",
        "    IMG_HEIGHT= 512\n",
        "    IMG_WIDTH= 512\n",
        "    IMG_CHANNELS = 3\n",
        "    NUM_CLASSES = 4\n",
        "\n",
        "    model = load_model(model_path,custom_objects=None, compile=False)\n",
        "\n",
        "    DSC_kidney_tumor_cyst = np.zeros(num_subj)\n",
        "    DSC_tumor_cyst = np.zeros(num_subj)\n",
        "    DSC_tumor = np.zeros(num_subj)\n",
        "\n",
        "    RVD_kidney_tumor_cyst = np.zeros(num_subj)\n",
        "    RVD_tumor_cyst = np.zeros(num_subj)\n",
        "    RVD_tumor = np.zeros(num_subj)\n",
        "\n",
        "\n",
        "    j=0\n",
        "    for n in range (first_subj, last_subj + 1):\n",
        "\n",
        "        case_path = dataset_path + \"/case_\" + str(n).zfill(5)\n",
        "        volume = nib.load(os.path.join(case_path, \"imaging.nii.gz\"))\n",
        "        segmentation = nib.load(os.path.join(case_path, \"segmentation.nii.gz\"))\n",
        "        mask_affine = segmentation.affine\n",
        "\n",
        "        print(volume.shape)\n",
        "        n_slice,height,width = volume.shape\n",
        "        X = np.zeros([n_slice, IMG_HEIGHT, IMG_WIDTH,IMG_CHANNELS], dtype=np.uint8)\n",
        "        Y_automatic=np.zeros([n_slice, IMG_HEIGHT, IMG_WIDTH], dtype=np.uint8)\n",
        "\n",
        "        volume = volume.slicer[0 : n_slice]\n",
        "        segmentation = segmentation.slicer[0 : n_slice]\n",
        "\n",
        "        Mask_supporto = segmentation.get_fdata().astype(np.uint8)\n",
        "        Y_manual = to_categorical(Mask_supporto, num_classes=NUM_CLASSES, dtype='float32')\n",
        "        Y_manual_stock=np.zeros([n_slice, IMG_HEIGHT, IMG_WIDTH, NUM_CLASSES], dtype=np.float32)\n",
        "\n",
        "\n",
        "        Vol_supporto= volume.get_fdata().astype(np.int16)\n",
        "\n",
        "\n",
        "        for k in range(0,n_slice):\n",
        "          image=resize(Vol_supporto[k,:,:], (IMG_HEIGHT,IMG_WIDTH,1), mode='constant', preserve_range=True)\n",
        "          X[k,:,:,:]=image\n",
        "\n",
        "          if height!=IMG_HEIGHT or width!=IMG_WIDTH:\n",
        "            Y_manual_stock[k,:,:,:]= resize(Y_manual[k,:,:,:],(IMG_HEIGHT,IMG_WIDTH,NUM_CLASSES), mode='constant', preserve_range=True)\n",
        "\n",
        "          support = np.reshape(X[k,:,:,:],(1,IMG_HEIGHT,IMG_WIDTH,IMG_CHANNELS))\n",
        "          softmax = model.predict(support)\n",
        "          softmax = np.reshape(softmax,(IMG_HEIGHT,IMG_WIDTH,NUM_CLASSES))\n",
        "\n",
        "          softmax=np.argmax(softmax,axis=2).astype(np.uint8)\n",
        "\n",
        "          Y_automatic[k,:,:]=softmax\n",
        "\n",
        "        if height!=IMG_HEIGHT or width!=IMG_WIDTH:\n",
        "          Y_manual = Y_manual_stock\n",
        "\n",
        "        # RVD Kidney or Tumor or Cyst\n",
        "        auto = (Y_automatic==1).sum() + (Y_automatic==2).sum() + (Y_automatic==3).sum()\n",
        "        manual = (Y_manual[:,:,:,1]==1).sum() + (Y_manual[:,:,:,2]==1).sum() + (Y_manual[:,:,:,3]==1).sum()\n",
        "        RVD_kidney_tumor_cyst[j]=(auto - manual) / (manual)\n",
        "\n",
        "        # RVD Tumor or Cyst\n",
        "        auto = (Y_automatic==2).sum() + (Y_automatic==3).sum()\n",
        "        manual = (Y_manual[:,:,:,2]==1).sum() + (Y_manual[:,:,:,3]==1).sum()\n",
        "        RVD_tumor_cyst[j]=(auto - manual) / (manual)\n",
        "\n",
        "        # RVD Tumor\n",
        "        auto = (Y_automatic==2).sum()\n",
        "        manual = (Y_manual[:,:,:,2]==1).sum()\n",
        "        RVD_tumor[j]=(auto - manual) / (manual)\n",
        "\n",
        "        # DSC Kidney or Tumor or Cyst\n",
        "        support = np.argmax(Y_manual,axis=3).astype(np.uint8)\n",
        "        intersection = (((Y_automatic == 1) | (Y_automatic == 2) | (Y_automatic == 3)) & ((support == 1) | (support == 2) | (support == 3))).sum()\n",
        "        auto = (((Y_automatic == 1) | (Y_automatic == 2) | (Y_automatic == 3))).sum()\n",
        "        manual = ((support == 1) | (support == 2) | (support == 3)).sum()\n",
        "        DSC_kidney_tumor_cyst[j] = (2 * intersection) / (auto + manual)\n",
        "\n",
        "        # DSC Tumor or Cyst\n",
        "        intersection = (((Y_automatic == 2) | (Y_automatic == 3)) & ((support == 2) | (support == 3))).sum()\n",
        "        auto = (((Y_automatic == 2) | (Y_automatic == 3))).sum()\n",
        "        manual = ((support == 2) | (support == 3)).sum()\n",
        "        DSC_tumor_cyst[j] = (2 * intersection) / (auto + manual)\n",
        "\n",
        "        # RVD Tumor\n",
        "        intersection = (((Y_automatic == 2)) & ((support == 2))).sum()\n",
        "        auto = (((Y_automatic == 2))).sum()\n",
        "        manual = ((support == 2)).sum()\n",
        "        DSC_tumor[j] = (2 * intersection) / (auto + manual)\n",
        "\n",
        "        j=j+1\n",
        "\n",
        "        os.system('clear')\n",
        "\n",
        "        if save_prediction == 'on':\n",
        "\n",
        "          os.makedirs(output_path, exist_ok = True)\n",
        "          Y_automatic_nii = nib.Nifti1Image(Y_automatic, affine=mask_affine)\n",
        "          nib.save(Y_automatic_nii, output_path + '/case_' + str(n).zfill(5)+'.nii.gz')\n",
        "          print('Subject saved successfully')\n",
        "\n",
        "    print('Mean DSC for Kidney + Tumor + Cyst: ', round(np.mean(DSC_kidney_tumor_cyst) * 100,5),'% (+-', round(np.std(DSC_kidney_tumor_cyst) * 100,5),'%)')\n",
        "    print('Mean DSC for Tumor + Cyst: ', round(np.mean(DSC_tumor_cyst) * 100,5),'% (+-', round(np.std(DSC_tumor_cyst) * 100,5),'%)')\n",
        "    print('Mean DSC for Tumor: ', round(np.mean(DSC_tumor) * 100,5),'% (+-', round(np.std(DSC_tumor) * 100,5),'%)')\n",
        "    print('\\n')\n",
        "    print('Mean RVD for Kidney + Tumor + Cyst: ', round(np.mean(RVD_kidney_tumor_cyst),5),'(+-', round(np.std(RVD_kidney_tumor_cyst),5),')')\n",
        "    print('Mean RVD for Tumor + Cyst: ', round(np.mean(RVD_tumor_cyst),5),'(+-', round(np.std(RVD_tumor_cyst),5),')')\n",
        "    print('Mean RVD for Tumor: ', round(np.mean(RVD_tumor),5),'(+-', round(np.std(RVD_tumor),5),')')\n",
        "\n",
        "\n",
        "    if view_dataset == 'on':\n",
        "      for n in range(0,X.shape[0]):\n",
        "        fig = plt.figure(figsize=(15, 15))\n",
        "        ax1 = fig.add_subplot(131)\n",
        "        ax1.imshow(X[n,:,:,:]), ax1.set_title('TAC Image')\n",
        "\n",
        "        ax2= fig.add_subplot(132)\n",
        "        support = to_categorical(Y_automatic[n,:,:], num_classes=NUM_CLASSES, dtype='float32')\n",
        "        ax2.imshow(visualizer(support,IMG_HEIGHT,IMG_WIDTH)), ax2.set_title('Automatic Segmentation')\n",
        "\n",
        "        ax3= fig.add_subplot(133)\n",
        "        ax3.imshow(visualizer(Y_manual[n,:,:,:],IMG_HEIGHT,IMG_WIDTH)), ax3.set_title('Manual Segmentation')\n",
        "\n",
        "        plt.show()\n",
        "        time.sleep(1.2)"
      ]
    },
    {
      "cell_type": "code",
      "execution_count": null,
      "metadata": {
        "id": "opGKteN_feeH"
      },
      "outputs": [],
      "source": [
        "dataset_path = '/content/drive/your_dataset_path'\n",
        "model_path='/content/drive/output_training_path/Epoch_05-Val_Loss0.00021.h5'\n",
        "output_path = '/content/drive/save_predictions_path'\n",
        "\n",
        "first_subj= 0          # example: start from subject 0\n",
        "last_subj= 249         # example: end up in subject 249"
      ]
    },
    {
      "cell_type": "markdown",
      "source": [
        "\n",
        "```\n",
        "Test(dataset_path, model_path, output_path, first_subj, last_subj, view_dataset, save_prediction)\n",
        "\n",
        "```\n",
        "*   If you want to see the predictions: view_dataset = 'on'\n",
        "*   If you want to save the predictions in output_path: save_prediction = 'on'"
      ],
      "metadata": {
        "id": "6S2sWZgCGMIq"
      }
    },
    {
      "cell_type": "code",
      "execution_count": null,
      "metadata": {
        "id": "whSol1WAw-Rg"
      },
      "outputs": [],
      "source": [
        "Test(dataset_path, model_path, output_path, first_subj, last_subj, 'on', 'off')"
      ]
    },
    {
      "cell_type": "markdown",
      "source": [
        "Predictions were created!"
      ],
      "metadata": {
        "id": "A8_2DM0wKh5P"
      }
    }
  ],
  "metadata": {
    "accelerator": "GPU",
    "colab": {
      "provenance": [],
      "gpuType": "A100",
      "include_colab_link": true
    },
    "kernelspec": {
      "display_name": "Python 3",
      "name": "python3"
    },
    "language_info": {
      "name": "python"
    }
  },
  "nbformat": 4,
  "nbformat_minor": 0
}